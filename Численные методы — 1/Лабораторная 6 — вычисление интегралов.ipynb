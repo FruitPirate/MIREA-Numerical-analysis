{
 "cells": [
  {
   "cell_type": "markdown",
   "metadata": {},
   "source": [
    "Вычислить определеённый интеграл методами прямугольников, трапеций, Симпсона с постоянным шагом."
   ]
  },
  {
   "cell_type": "markdown",
   "metadata": {},
   "source": [
    " f(x) = x/(3*x+4)^2  \n",
    " (F(x) = 1/9(4/(3x+4) + ln(3x+4)))   \n",
    " a = 0, b = 4.0, h = 1.0"
   ]
  },
  {
   "cell_type": "code",
   "execution_count": 1,
   "metadata": {},
   "outputs": [
    {
     "name": "stdout",
     "output_type": "stream",
     "text": [
      "True value = 0.07069937345776561\n",
      "[0.0, 1.0, 2.0, 3.0, 4.0]\n"
     ]
    }
   ],
   "source": [
    "import numpy as np\n",
    "import matplotlib.pyplot as plt\n",
    "from math import pi, sin, log\n",
    "\n",
    "\n",
    "def f(x):\n",
    "    return x/(3*x+4) ** 2\n",
    "\n",
    "a = 0\n",
    "b = 4\n",
    "h = 1.0\n",
    "n = int((b-a)/h)\n",
    "\n",
    "true_value = (1/9*(4/(3*b+4) + log(3*b+4) - 4/(3*a+4) - log(3*a+4)))\n",
    "print(\"True value =\", true_value)\n",
    "x = [h*k for k in range(n+1)]\n"
   ]
  },
  {
   "cell_type": "code",
   "execution_count": 4,
   "metadata": {},
   "outputs": [
    {
     "name": "stdout",
     "output_type": "stream",
     "text": [
      "Результат метода: 0.05815964255524695\n",
      "Формула Ньютона-Лейбница: 0.07069937345776561\n",
      "Погрешность: 0.012539730902518663\n"
     ]
    }
   ],
   "source": [
    "# Метод левых прямоугольников\n",
    "h = 1.0\n",
    "summa = 0\n",
    "for i in range(1, n+1):\n",
    "    summa += f(x[i-1])*h\n",
    "print('Результат метода:', summa)\n",
    "print('Формула Ньютона-Лейбница:', true_value)\n",
    "print('Погрешность:', abs(true_value-summa))\n"
   ]
  },
  {
   "cell_type": "code",
   "execution_count": 6,
   "metadata": {},
   "outputs": [
    {
     "name": "stdout",
     "output_type": "stream",
     "text": [
      "Результат метода: 0.07378464255524694\n",
      "Формула Ньютона-Лейбница: 0.07069937345776561\n",
      "Погрешность: 0.00308526909748133\n"
     ]
    }
   ],
   "source": [
    "# Метод правых прямоугольников\n",
    "h = 1.0\n",
    "summa = 0\n",
    "for i in range(1,n+1):\n",
    "    summa += f(x[i])*h\n",
    "print('Результат метода:', summa)\n",
    "print('Формула Ньютона-Лейбница:', true_value)\n",
    "print('Погрешность:', abs(true_value-summa))"
   ]
  },
  {
   "cell_type": "code",
   "execution_count": 7,
   "metadata": {},
   "outputs": [
    {
     "name": "stdout",
     "output_type": "stream",
     "text": [
      "Результат метода: 0.07284061196629331\n",
      "Формула Ньютона-Лейбница: 0.07069937345776561\n",
      "Погрешность: 0.002141238508527696\n"
     ]
    }
   ],
   "source": [
    "# Формула средних прямоугольников\n",
    "h = 1.0\n",
    "summa = 0\n",
    "for i in range(1,n+1):\n",
    "    summa += f((x[i-1]+x[i])/2)*h\n",
    "print('Результат метода:', summa)\n",
    "print('Формула Ньютона-Лейбница:', true_value)\n",
    "print('Погрешность:', abs(true_value-summa))"
   ]
  },
  {
   "cell_type": "code",
   "execution_count": 8,
   "metadata": {},
   "outputs": [
    {
     "name": "stdout",
     "output_type": "stream",
     "text": [
      "Результат метода: 0.06597214255524694\n",
      "Формула Ньютона-Лейбница: 0.07069937345776561\n",
      "Погрешность: 0.00472723090251867\n"
     ]
    }
   ],
   "source": [
    "# Метод трапеций\n",
    "h = 1.0\n",
    "summa = 0\n",
    "for i in range(1,n+1):\n",
    "    summa += (f(x[i-1])+f(x[i]))*h\n",
    "summa /= 2 # В методичке ошибка там не делится на 2\n",
    "print('Результат метода:', summa)\n",
    "print('Формула Ньютона-Лейбница:', true_value)\n",
    "print('Погрешность:', abs(true_value-summa))"
   ]
  },
  {
   "cell_type": "code",
   "execution_count": 10,
   "metadata": {},
   "outputs": [
    {
     "name": "stdout",
     "output_type": "stream",
     "text": [
      "Результат метода: 0.06597214255524694\n",
      "Формула Ньютона-Лейбница: 0.07069937345776561\n",
      "Погрешность: 0.00472723090251867\n"
     ]
    }
   ],
   "source": [
    "# Метод трапеций с постоянным шагом\n",
    "h = 1.0\n",
    "summa = (f(x[0]) + f(x[n]))/2\n",
    "for i in range(1, n):\n",
    "    summa += f(x[i])\n",
    "summa *= h\n",
    "print('Результат метода:', summa)\n",
    "print('Формула Ньютона-Лейбница:', true_value)\n",
    "print('Погрешность:', abs(true_value-summa))"
   ]
  },
  {
   "cell_type": "code",
   "execution_count": 11,
   "metadata": {},
   "outputs": [
    {
     "name": "stdout",
     "output_type": "stream",
     "text": [
      "Результат метода: 0.0694211900736626\n",
      "Формула Ньютона-Лейбница: 0.07069937345776561\n",
      "Погрешность: 0.0012781833841030155\n"
     ]
    }
   ],
   "source": [
    "# Метод Симпсона\n",
    "h = 1.0\n",
    "summa = f(x[0])+f(x[n])\n",
    "for i in range(2, n, 2):\n",
    "    summa += 2*f(x[i])\n",
    "for i in range(1, n, 2):\n",
    "    summa += 4*f(x[i])\n",
    "summa = summa*h/3\n",
    "print('Результат метода:', summa)\n",
    "print('Формула Ньютона-Лейбница:', true_value)\n",
    "print('Погрешность:', abs(true_value-summa))"
   ]
  },
  {
   "cell_type": "code",
   "execution_count": null,
   "metadata": {
    "collapsed": true
   },
   "outputs": [],
   "source": []
  }
 ],
 "metadata": {
  "kernelspec": {
   "display_name": "Python 3",
   "language": "python",
   "name": "python3"
  },
  "language_info": {
   "codemirror_mode": {
    "name": "ipython",
    "version": 3
   },
   "file_extension": ".py",
   "mimetype": "text/x-python",
   "name": "python",
   "nbconvert_exporter": "python",
   "pygments_lexer": "ipython3",
   "version": "3.6.8"
  }
 },
 "nbformat": 4,
 "nbformat_minor": 2
}
