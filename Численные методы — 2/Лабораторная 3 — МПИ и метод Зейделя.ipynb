{
 "cells": [
  {
   "cell_type": "markdown",
   "metadata": {},
   "source": [
    "Решить СЛАУ методом простой итерации и методом Зейделя с погрешностью 0.01."
   ]
  },
  {
   "cell_type": "code",
   "execution_count": 5,
   "metadata": {},
   "outputs": [],
   "source": [
    "import numpy as np\n",
    "\n",
    "\n",
    "def norma_matr(arr):\n",
    "    sums = [sum(abs(arr[i])) for i in range(len(arr))]\n",
    "    return max(sums)\n",
    "    \n",
    "def norma_vect(v):\n",
    "    return sum([abs(el) for el in v])\n",
    "\n",
    "def MPI(A, b, eps=0.01):\n",
    "    n = len(A)\n",
    "    B = np.zeros((n, n))\n",
    "    d = np.zeros(n)\n",
    "    for i in range(n):\n",
    "        for j in range(n):\n",
    "            if i == j:\n",
    "                B[i][i] = 0\n",
    "            else:    \n",
    "                 B[i][j] = -A[i][j] / A[i][i]\n",
    "        d[i] = b[i]/A[i][i]\n",
    "                         \n",
    "    x = d\n",
    "    x_new = np.dot(B, x) + d\n",
    "    while norma_vect(x_new - x) > (1-norma_matr(B))/norma_matr(B)*eps:\n",
    "        x = x_new\n",
    "        x_new = np.dot(B, x) + d\n",
    "    return x_new\n"
   ]
  },
  {
   "cell_type": "code",
   "execution_count": 6,
   "metadata": {},
   "outputs": [
    {
     "name": "stdout",
     "output_type": "stream",
     "text": [
      "[ 4.39625098  2.82964093  9.67479368 -2.09574867]\n"
     ]
    }
   ],
   "source": [
    "A = np.array([[16, -2, 0, 7], [-1, 14, -3, 2], [5, 5, 26, 7], [-2, -6, 9, 24]])\n",
    "b = np.array([50, 2, 273, 11])\n",
    "x = MPI(A, b)\n",
    "print(x)"
   ]
  },
  {
   "cell_type": "code",
   "execution_count": 7,
   "metadata": {},
   "outputs": [],
   "source": [
    "def Seidel(A, b, eps=0.01):\n",
    "    n = len(A)\n",
    "    B = np.zeros((n, n))\n",
    "    d = np.zeros(n)\n",
    "    for i in range(n):\n",
    "        for j in range(n):\n",
    "            if i == j:\n",
    "                B[i][i] = 0\n",
    "            else:    \n",
    "                 B[i][j] = -A[i][j] / A[i][i]\n",
    "        d[i] = b[i]/A[i][i]\n",
    "\n",
    "    x_new = np.copy(d)\n",
    "    for i in range(len(x_new)):\n",
    "        x_new[i] = np.dot(B[i], x_new) + d[i]\n",
    "    x = np.copy(d)\n",
    "    while norma_vect(np.dot(A, x_new) - b) > eps:\n",
    "        x = np.copy(x_new)\n",
    "        for i in range(len(x_new)):\n",
    "            x_new[i] = np.dot(B[i], x_new) + d[i]\n",
    "    return x_new\n",
    "      "
   ]
  },
  {
   "cell_type": "code",
   "execution_count": 8,
   "metadata": {},
   "outputs": [
    {
     "name": "stdout",
     "output_type": "stream",
     "text": [
      "[ 4.39558279  2.82922322  9.67479019 -2.09610862]\n"
     ]
    }
   ],
   "source": [
    "A = np.array([[16, -2, 0, 7], [-1, 14, -3, 2], [5, 5, 26, 7], [-2, -6, 9, 24]])\n",
    "b = np.array([50, 2, 273, 11])\n",
    "x = Seidel(A, b)\n",
    "print(x)"
   ]
  },
  {
   "cell_type": "code",
   "execution_count": 9,
   "metadata": {},
   "outputs": [
    {
     "data": {
      "text/plain": [
       "array([ 4.39571243,  2.82946123,  9.67486954, -2.09606807])"
      ]
     },
     "execution_count": 9,
     "metadata": {},
     "output_type": "execute_result"
    }
   ],
   "source": [
    "np.linalg.solve(A, b)"
   ]
  },
  {
   "cell_type": "code",
   "execution_count": null,
   "metadata": {},
   "outputs": [],
   "source": []
  }
 ],
 "metadata": {
  "kernelspec": {
   "display_name": "Python 3",
   "language": "python",
   "name": "python3"
  },
  "language_info": {
   "codemirror_mode": {
    "name": "ipython",
    "version": 3
   },
   "file_extension": ".py",
   "mimetype": "text/x-python",
   "name": "python",
   "nbconvert_exporter": "python",
   "pygments_lexer": "ipython3",
   "version": "3.6.8"
  }
 },
 "nbformat": 4,
 "nbformat_minor": 2
}
