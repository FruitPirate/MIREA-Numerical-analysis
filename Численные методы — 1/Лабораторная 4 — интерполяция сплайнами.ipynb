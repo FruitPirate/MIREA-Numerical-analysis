{
 "cells": [
  {
   "cell_type": "markdown",
   "metadata": {},
   "source": [
    "Построить кубический сплайн для функции, заданной в узлах интерполяции, предполагая, что сплайн имеет нулевую кривизну при \n",
    "х = 0 и х = 4.0. Вычислить значение в точке x* = 1.5;\n",
    "x = [0, 1.0, 2.0, 3.0, 4.0]; y = [1.0, 0.86603, 0.5, 0, -0.5]\n"
   ]
  },
  {
   "cell_type": "markdown",
   "metadata": {},
   "source": [
    "Кубический сплайн имеет вид S(x) = a[i] + b[i](x - x[i-1]) + c[i](x - x[i-1])^2 + d[i](x - x[i-1])^3"
   ]
  },
  {
   "cell_type": "markdown",
   "metadata": {},
   "source": [
    "## Коэффициенты вычисляются по селдующим формулам:\n",
    "\n",
    "h[i] = x[i] - x[i-1], i = 1, 2, 3, ..., n   \n",
    "a[i] = y[i-1], a[n] = y[n-1]  \n",
    "b[i] = (y[i] - y[i-1])/h[i] - h[i]*(c[i+1] + 2c[i])/3, b[n] = (y[n] - y[n-1])/h[n] - 2c[n]h[n]/3  \n",
    "d[i] = (c[i] - c[i-1])/(3h[i]), d[n] = -c[n]/(3h[n])  \n",
    "h[i]c[i-1] + 2(h[i-1] + h[i])c[i] + h[i]c[i-1] = 3((y[i] - y[i-1])/h[i] - (y[i-1] - y[i-2])/h[i-1])  \n"
   ]
  },
  {
   "cell_type": "code",
   "execution_count": 262,
   "metadata": {},
   "outputs": [],
   "source": [
    "import numpy as np \n",
    "import matplotlib.pyplot as plt\n",
    "import math\n",
    "\n",
    "\n",
    "#Метод прогонки\n",
    "def TMA(A, d):\n",
    "    n = len(A)\n",
    "    if len(d) != n:\n",
    "        raise ValueError(\"Invalid argument: incompatible sizes between A & d.\", d.size, n)\n",
    "    d = d.reshape(n, )\n",
    "    a = [0]\n",
    "    c = []\n",
    "    b = []\n",
    "    for i in range(n-1):\n",
    "        a.append(A[i+1][i])\n",
    "        b.append(A[i][i])\n",
    "        c.append(A[i][i+1])\n",
    "    b.append(A[n-1][n-1])\n",
    "    c.append(0)\n",
    "    P = [-c[0]/b[0]]\n",
    "    Q = [d[0]/b[0]]\n",
    "    for i in range(1, n-1):\n",
    "        P.append(-c[i]/(b[i] + a[i]*P[i-1]))\n",
    "        Q.append((d[i] - a[i]* Q[i-1])/(b[i] + a[i]*P[i-1]))\n",
    "    P.append(0)\n",
    "    Q.append((d[n-1] - a[n-1]*Q[n-2])/(b[n-1] + a[n-1]*P[n-2]))\n",
    "    \n",
    "    x = [0]*n\n",
    "    x[n-1] = Q[n-1]\n",
    "    for i in reversed(range(n-1)):\n",
    "        x[i] = P[i]*x[i+1] + Q[i]\n",
    "\n",
    "    return x\n",
    "\n",
    "def spline(x, y, xstar):\n",
    "    h = x[1] - x[0]\n",
    "    n = len(x)\n",
    "    a = [y[i-1] for i in range(1, n)]\n",
    "    \n",
    "    #создаём и заполняем матрицы для метода прогонки\n",
    "    H = np.zeros((n-2, n-2))\n",
    "    r = np.zeros((n-2, 1))\n",
    "    H[0][0] = 4*h\n",
    "    H[0][1] = h\n",
    "    r[0] = 3*((y[2]-y[1])/h - (y[1]-y[0])/h)\n",
    "    for i in range(1, n-3):\n",
    "        H[i][i-1] = h\n",
    "        H[i][i] = 4*h\n",
    "        H[i][i+1] = h\n",
    "        r[i] = 3*((y[i+2]-y[i+1])/h - (y[i+1]-y[i])/h)\n",
    "    H[n-3][n-4] = h\n",
    "    H[n-3][n-3] = 4*h\n",
    "    r[n-3] = 3*((y[n-1]-y[n-2])/h - (y[n-2]-y[n-3])/h)\n",
    "    \n",
    "    c = TMA(H, r)\n",
    "    c.insert(0, 0)\n",
    "    c.append(0)\n",
    "       \n",
    "    d = [(c[i+1] - c[i])/(3*h) for i in range(n-1)]\n",
    "    b = [(y[i] - y[i-1])/h - h*(c[i] + 2*c[i-1])/3 for i in range(1, n)]\n",
    "     \n",
    "    for i in range(n-1):\n",
    "        if x[i] - h/10 <= xstar <= x[i+1] + h/10:\n",
    "            Sx = a[i] + b[i]*(xstar - x[i]) + (c[i])*(xstar - x[i])**2  +  (d[i])*(xstar - x[i])**3 \n",
    "    return Sx\n",
    "    "
   ]
  },
  {
   "cell_type": "code",
   "execution_count": 263,
   "metadata": {},
   "outputs": [
    {
     "name": "stdout",
     "output_type": "stream",
     "text": [
      "Значение кубического сплана в точке 1.5:  0.7108741517857143\n"
     ]
    }
   ],
   "source": [
    "x = np.array([0, 1, 2, 3, 4], dtype = float) \n",
    "y = np.array([1, 0.86603, 0.5, 0, -0.5], dtype = float)\n",
    "xstar = 1.5\n",
    "print('Значение кубического сплана в точке {}: '.format(xstar), spline(x, y, xstar))\n",
    "\n"
   ]
  },
  {
   "cell_type": "code",
   "execution_count": 267,
   "metadata": {},
   "outputs": [
    {
     "data": {
      "image/png": "[encoded data removed]",
      "text/plain": [
       "<Figure size 640x480 with 1 Axes>"
      ]
     },
     "metadata": {},
     "output_type": "display_data"
    }
   ],
   "source": [
    "x_arr = np.arange(0, 4, 0.001) \n",
    "y_spline = [spline(x, y, i) for i in x_arr] \n",
    "plt.figure(num=None, figsize=(8, 6), dpi=80, facecolor='w', edgecolor='k')\n",
    "plt.plot(x, y, 'o', x_arr, y_spline) \n",
    "plt.grid(True)\n",
    "plt.show()"
   ]
  },
  {
   "cell_type": "code",
   "execution_count": null,
   "metadata": {},
   "outputs": [],
   "source": []
  }
 ],
 "metadata": {
  "kernelspec": {
   "display_name": "Python 3",
   "language": "python",
   "name": "python3"
  },
  "language_info": {
   "codemirror_mode": {
    "name": "ipython",
    "version": 3
   },
   "file_extension": ".py",
   "mimetype": "text/x-python",
   "name": "python",
   "nbconvert_exporter": "python",
   "pygments_lexer": "ipython3",
   "version": "3.6.8"
  }
 },
 "nbformat": 4,
 "nbformat_minor": 2
}
