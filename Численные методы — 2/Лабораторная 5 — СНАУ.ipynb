{
 "cells": [
  {
   "cell_type": "markdown",
   "metadata": {},
   "source": [
    "Решить систему нелинейных уравнений методами Ньютона и простой итерации."
   ]
  },
  {
   "cell_type": "code",
   "execution_count": 12,
   "metadata": {},
   "outputs": [
    {
     "name": "stdout",
     "output_type": "stream",
     "text": [
      "Количество итераций: 7\n",
      "x = [0.2375410411200802, 0.31703273180712815]\n",
      "Погрешность: ['-0.000000477', '0.000003886']\n"
     ]
    }
   ],
   "source": [
    "import numpy as np\n",
    "import math\n",
    "\n",
    "\n",
    "def f1(x1, x2):\n",
    "    return math.cos(x2) / 4\n",
    "\n",
    "def f2(x1, x2):\n",
    "    return math.exp(x1) / 4\n",
    "\n",
    "def check(x):\n",
    "    x1, x2 = x[0], x[1]\n",
    "    f1 = 4*x1 - math.cos(x2)\n",
    "    f2 = 4*x2 - math.exp(x1)\n",
    "    return [f1, f2]\n",
    "\n",
    "#Метод простой итерации.\n",
    "def MPI(eps=1e-5):\n",
    "    x1 = 0\n",
    "    x2 = 0\n",
    "    x1_new = f1(x1, x2)\n",
    "    x2_new = f2(x1, x2)\n",
    "    num_of_iter = 1\n",
    "    if abs(x1_new - x1) > abs(x2_new - x2):\n",
    "        diff = abs(x1_new - x1)\n",
    "    else:\n",
    "        diff = abs(x2_new - x2)\n",
    "    while diff > eps:\n",
    "        x1, x2 = x1_new, x2_new\n",
    "        x1_new = f1(x1, x2)\n",
    "        x2_new = f2(x1, x2)\n",
    "        if abs(x1_new - x1) > abs(x2_new - x2):\n",
    "            diff = abs(x1_new - x1)\n",
    "        else:\n",
    "            diff = abs(x2_new - x2) \n",
    "        num_of_iter += 1\n",
    "        \n",
    "    print(\"Количество итераций:\", num_of_iter)\n",
    "    return [x1_new, x2_new]\n",
    "    \n",
    "x = MPI()\n",
    "print(\"x =\", x)\n",
    "print(\"Погрешность:\", ['{:0.9f}'.format(f) for f in check(x)])"
   ]
  },
  {
   "cell_type": "code",
   "execution_count": 14,
   "metadata": {},
   "outputs": [
    {
     "name": "stdout",
     "output_type": "stream",
     "text": [
      "Количество итераций: 5\n",
      "x = [0.237541160302086, 0.3170317980537093]\n",
      "Погрешность: ['-0.000000291', '0.000000000']\n"
     ]
    }
   ],
   "source": [
    "def Seidel(eps=1e-5):\n",
    "    x1 = 0\n",
    "    x2 = 0\n",
    "    x1_new = f1(x1, x2)\n",
    "    x2_new = f2(x1, x2)\n",
    "    num_of_iter = 1\n",
    "    if abs(x1_new - x1) > abs(x2_new - x2):\n",
    "        diff = abs(x1_new - x1)\n",
    "    else:\n",
    "        diff = abs(x2_new - x2)\n",
    "    while diff > eps:\n",
    "        x1, x2 = x1_new, x2_new\n",
    "        x1_new = f1(x1, x2)\n",
    "        x2_new = f2(x1_new, x2)\n",
    "        if abs(x1_new - x1) > abs(x2_new - x2):\n",
    "            diff = abs(x1_new - x1)\n",
    "        else:\n",
    "            diff = abs(x2_new - x2) \n",
    "        num_of_iter += 1\n",
    "        \n",
    "    print(\"Количество итераций:\", num_of_iter)\n",
    "    return [x1_new, x2_new]\n",
    "    \n",
    "x = Seidel()\n",
    "print(\"x =\", x)\n",
    "print(\"Погрешность:\", ['{:0.9f}'.format(f) for f in check(x)])"
   ]
  },
  {
   "cell_type": "code",
   "execution_count": 15,
   "metadata": {},
   "outputs": [
    {
     "name": "stdout",
     "output_type": "stream",
     "text": [
      "Количество итераций: 7\n",
      "x = [0.2375414  0.31703187]\n",
      "Погрешность: ['0.000000688', '-0.000000000']\n"
     ]
    }
   ],
   "source": [
    "def F(x):\n",
    "    x1, x2 = x[0], x[1]\n",
    "    f1 = 4*x1 - math.cos(x2)\n",
    "    f2 = 4*x2 - math.exp(x1)\n",
    "    return np.array([f1, f2])\n",
    "\n",
    "def W(x):\n",
    "    x1, x2 = x[0], x[1]\n",
    "    return np.array([[4, -math.cos(x2)], [-math.exp(x1), 4]])\n",
    "\n",
    "#Метод Ньютона\n",
    "def Newton(eps = 1e-5):\n",
    "    x = np.array([0, 0])\n",
    "    num_of_iter = 1\n",
    "    delta_x = np.linalg.solve(W(x), -F(x))\n",
    "    x_new = x + delta_x\n",
    "    while max(abs(x_new - x)) > eps:\n",
    "        x = x_new\n",
    "        delta_x = np.linalg.solve(W(x), -F(x))\n",
    "        x_new = x + delta_x\n",
    "        num_of_iter += 1\n",
    "   \n",
    "    print(\"Количество итераций:\", num_of_iter)\n",
    "    return x_new\n",
    "    \n",
    "x = Newton()\n",
    "print(\"x =\", x)\n",
    "print(\"Погрешность:\", ['{:0.9f}'.format(f) for f in check(x)])"
   ]
  },
  {
   "cell_type": "code",
   "execution_count": null,
   "metadata": {},
   "outputs": [],
   "source": []
  },
  {
   "cell_type": "code",
   "execution_count": null,
   "metadata": {},
   "outputs": [],
   "source": []
  }
 ],
 "metadata": {
  "kernelspec": {
   "display_name": "Python 3",
   "language": "python",
   "name": "python3"
  },
  "language_info": {
   "codemirror_mode": {
    "name": "ipython",
    "version": 3
   },
   "file_extension": ".py",
   "mimetype": "text/x-python",
   "name": "python",
   "nbconvert_exporter": "python",
   "pygments_lexer": "ipython3",
   "version": "3.6.8"
  }
 },
 "nbformat": 4,
 "nbformat_minor": 2
}
