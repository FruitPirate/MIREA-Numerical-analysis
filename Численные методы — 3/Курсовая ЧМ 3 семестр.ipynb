{
 "cells": [
  {
   "cell_type": "markdown",
   "metadata": {},
   "source": [
    "Решить задачу Коши для системы:  \n",
    "y_1'=x/sqrt(1+x^2+y_2^2), y_2'=y_1/sqrt(1+x^2+y_1^2)\n",
    "на отрезке [-1,1]  с шагом h=0.1;  \n",
    "y_1 (-1)=0.2, y_2 (-1)=0.  \n",
    "По таблице значений функции y_1 (x) построить многочлен второй степени наилучшего приближения по критерию наименьших квадратов\n"
   ]
  },
  {
   "cell_type": "code",
   "execution_count": 1,
   "metadata": {},
   "outputs": [
    {
     "data": {
      "text/plain": [
       "<matplotlib.legend.Legend at 0x26d3f169da0>"
      ]
     },
     "execution_count": 1,
     "metadata": {},
     "output_type": "execute_result"
    }
   ],
   "source": [
    "import numpy as np\n",
    "import scipy.sparse\n",
    "import scipy.linalg\n",
    "import matplotlib.pyplot as plt\n",
    "\n",
    "\n",
    "def norma_matr(arr):\n",
    "    sums = [sum(abs(arr[i])) for i in range(len(arr))]\n",
    "    return max(sums)\n",
    "    \n",
    "def norma_vect(v):\n",
    "    return sum([abs(el) for el in v])\n",
    "\n",
    "\n",
    "def Seidel(A, b):\n",
    "    n = len(A)\n",
    "    B = np.zeros((n, n))\n",
    "    d = np.zeros(n)\n",
    "    for i in range(n):\n",
    "        for j in range(n):\n",
    "            if i == j:\n",
    "                B[i][i] = 0\n",
    "            else:    \n",
    "                 B[i][j] = -A[i][j] / A[i][i]\n",
    "        d[i] = b[i]/A[i][i]\n",
    "    \n",
    "    eps = 0.000001\n",
    "    x_new = np.copy(d)\n",
    "    for i in range(len(x_new)):\n",
    "        x_new[i] = np.dot(B[i], x_new) + d[i]\n",
    "    x = np.copy(d)\n",
    "\n",
    "    while norma_vect(np.dot(A, x_new) - b) > eps:\n",
    "        x = np.copy(x_new)\n",
    "        for i in range(len(x_new)):\n",
    "            x_new[i] = np.dot(B[i], x_new) + d[i]\n",
    "        print('x_new = ', x_new)\n",
    "    return x_new\n",
    "\n",
    "\n",
    "def Runge_Kutta(arr_x, h):\n",
    "    arr_y_1 = np.zeros(len(arr_x))\n",
    "    arr_y_1[0] = 0.2\n",
    "    arr_y_2 = np.zeros(len(arr_x))\n",
    "    arr_y_2[0] = 0\n",
    "    for i in range(1, len(arr_x)):\n",
    "        k1 = f_1(arr_x[i-1], arr_y_2[i-1])\n",
    "        q1 = f_2(arr_x[i-1], arr_y_1[i-1])\n",
    "        k2 = f_1(arr_x[i-1] + h/2, arr_y_2[i-1] + k1 * h / 2)\n",
    "        q2 = f_2(arr_x[i-1] + h/2, arr_y_1[i-1] + q1 * h / 2)\n",
    "        k3 = f_1(arr_x[i-1] + h/2, arr_y_2[i-1] + k2 * h / 2)\n",
    "        q3 = f_2(arr_x[i-1] + h/2, arr_y_1[i-1] + q2 * h / 2)\n",
    "        k4 = f_1(arr_x[i-1] + h, arr_y_2[i-1] + k3 * h)\n",
    "        q4 = f_2(arr_x[i-1] + h, arr_y_1[i-1] + q3 * h)\n",
    "        \n",
    "        arr_y_1[i] = arr_y_1[i-1] + h*(k1 + 2*k2 + 2*k3 + k4)/6\n",
    "        arr_y_2[i] = arr_y_2[i-1] + h*(q1 + 2*q2 + 2*q3 + q4)/6\n",
    "          \n",
    "    return (arr_y_1, arr_y_2)\n",
    "\n",
    "\n",
    "f_1 = lambda x, y_2: x/np.sqrt(1 + x*x + y_2*y_2)\n",
    "f_2 = lambda x, y_1: y_1/np.sqrt(1 + x*x + y_1*y_1)\n",
    "\n",
    "h = 0.001\n",
    "\n",
    "xx = np.arange(-1, 1+h, h)\n",
    "\n",
    "yy_1, yy_2 = Runge_Kutta(xx, h)\n",
    "\n",
    "plt.figure(num=None, figsize=(8, 6), dpi=80, facecolor='w', edgecolor='k')\n",
    "plt.plot(xx, yy_1, 'r', xx, yy_2, 'b')\n",
    "plt.xlabel('x')\n",
    "plt.ylabel('y')\n",
    "plt.legend((\"y1\", \"y2\"))"
   ]
  },
  {
   "cell_type": "code",
   "execution_count": 2,
   "metadata": {},
   "outputs": [
    {
     "name": "stdout",
     "output_type": "stream",
     "text": [
      "[-0.20721641 -0.00125017  0.42078148]\n",
      "x_new =  [-0.14326069 -0.00125017  0.31429506]\n",
      "x_new =  [-0.17168544 -0.00125017  0.36162234]\n",
      "x_new =  [-0.18747698 -0.00125017  0.38791528]\n",
      "x_new =  [-0.19625006 -0.00125017  0.40252248]\n",
      "x_new =  [-0.20112399 -0.00125017  0.41063759]\n",
      "x_new =  [-0.20383173 -0.00125017  0.41514598]\n",
      "x_new =  [-0.20533603 -0.00125017  0.41765065]\n",
      "x_new =  [-0.20617176 -0.00125017  0.41904213]\n",
      "x_new =  [-0.20663605 -0.00125017  0.41981518]\n",
      "x_new =  [-0.20689399 -0.00125017  0.42024465]\n",
      "x_new =  [-0.20703729 -0.00125017  0.42048324]\n",
      "x_new =  [-0.2071169  -0.00125017  0.42061579]\n",
      "x_new =  [-0.20716113 -0.00125017  0.42068943]\n",
      "x_new =  [-0.2071857  -0.00125017  0.42073034]\n",
      "x_new =  [-0.20719935 -0.00125017  0.42075307]\n",
      "x_new =  [-0.20720693 -0.00125017  0.4207657 ]\n",
      "x_new =  [-0.20721115 -0.00125017  0.42077272]\n",
      "x_new =  [-0.20721349 -0.00125017  0.42077661]\n",
      "x_new =  [-0.20721479 -0.00125017  0.42077878]\n",
      "x_new =  [-0.20721551 -0.00125017  0.42077998]\n",
      "x_new =  [-0.20721591 -0.00125017  0.42078065]\n",
      "x_new =  [-0.20721613 -0.00125017  0.42078102]\n",
      "x_new =  [-0.20721626 -0.00125017  0.42078123]\n",
      "x_new =  [-0.20721633 -0.00125017  0.42078134]\n",
      "x_new =  [-0.20721636 -0.00125017  0.4207814 ]\n",
      "x_new =  [-0.20721639 -0.00125017  0.42078144]\n",
      "x_new =  [-0.2072164  -0.00125017  0.42078146]\n",
      "x_new =  [-0.2072164  -0.00125017  0.42078147]\n",
      "x_new =  [-0.20721641 -0.00125017  0.42078148]\n",
      "x_new =  [-0.20721641 -0.00125017  0.42078148]\n",
      "x_new =  [-0.20721641 -0.00125017  0.42078148]\n",
      "x_new =  [-0.20721641 -0.00125017  0.42078148]\n"
     ]
    }
   ],
   "source": [
    "M = np.zeros((3, 3))\n",
    "for i in range(3):\n",
    "    for j in range(3):\n",
    "        M[i][j] = np.sum(xx ** (i+j))\n",
    "Y = np.array([np.sum(yy_1), np.sum(yy_1 * xx), np.sum(yy_1 * xx**2)])\n",
    "print(np.linalg.solve(M, Y))\n",
    "#coef = np.linalg.solve(M, Y)\n",
    "coef = Seidel(M, Y)"
   ]
  },
  {
   "cell_type": "code",
   "execution_count": 3,
   "metadata": {},
   "outputs": [
    {
     "data": {
      "text/plain": [
       "<matplotlib.legend.Legend at 0x26d3f1ee978>"
      ]
     },
     "execution_count": 3,
     "metadata": {},
     "output_type": "execute_result"
    },
    {
     "data": {
      "image/png": "[encoded data removed]",
      "text/plain": [
       "<Figure size 640x480 with 1 Axes>"
      ]
     },
     "metadata": {},
     "output_type": "display_data"
    }
   ],
   "source": [
    "yy_1_ls = coef[0] + coef[1]*xx + coef[2]*xx**2\n",
    "plt.figure(num=None, figsize=(8, 6), dpi=80, facecolor='w', edgecolor='k')\n",
    "plt.plot(xx, yy_1, 'b', xx, yy_1_ls, 'r')\n",
    "plt.xlabel('x')\n",
    "plt.ylabel('y')\n",
    "plt.legend((\"original\", \"less_squared\"))"
   ]
  },
  {
   "cell_type": "code",
   "execution_count": null,
   "metadata": {},
   "outputs": [],
   "source": []
  }
 ],
 "metadata": {
  "kernelspec": {
   "display_name": "Python 3",
   "language": "python",
   "name": "python3"
  },
  "language_info": {
   "codemirror_mode": {
    "name": "ipython",
    "version": 3
   },
   "file_extension": ".py",
   "mimetype": "text/x-python",
   "name": "python",
   "nbconvert_exporter": "python",
   "pygments_lexer": "ipython3",
   "version": "3.6.8"
  }
 },
 "nbformat": 4,
 "nbformat_minor": 2
}
