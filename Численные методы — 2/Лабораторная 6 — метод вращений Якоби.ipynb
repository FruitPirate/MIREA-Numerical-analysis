{
 "cells": [
  {
   "cell_type": "markdown",
   "metadata": {},
   "source": [
    "Используя метод вращений найти собственные значения и собственные векторы сиvvетрических матриц с погрешностью 0.01."
   ]
  },
  {
   "cell_type": "code",
   "execution_count": 15,
   "metadata": {},
   "outputs": [],
   "source": [
    "import numpy as np\n",
    "import math\n",
    "\n",
    "\n",
    "def Jakobi_rotation_method(A, eps):\n",
    "    \n",
    "    def find_max_el(A):\n",
    "        max_el = A[0][1]\n",
    "        ind = (0, 1)\n",
    "        for i in range(len(A)):\n",
    "            for j in range(len(A[0])):\n",
    "                if i != j and abs(A[i][j]) > abs(max_el):\n",
    "                    max_el = A[i][j]\n",
    "                    ind = (i, j)\n",
    "        return (max_el, ind)\n",
    "     \n",
    "        \n",
    "    def make_U(A, max_el_with_ind):\n",
    "        max_el = max_el_with_ind[0]\n",
    "        i, j = max_el_with_ind[1][0], max_el_with_ind[1][1]\n",
    "        U = np.zeros(A.shape)\n",
    "        phi = 0.5 * math.atan(2*max_el/(A[i][i] - A[j][j]))\n",
    "        for ind1 in range(len(U)):\n",
    "            for ind2 in range(len(U[0])):\n",
    "                if (ind1, ind2) == (i, j):\n",
    "                    U[ind1][ind2] = -math.sin(phi)\n",
    "                elif (ind1, ind2) == (j, i):\n",
    "                    U[ind1][ind2] = math.sin(phi)\n",
    "                elif (ind1, ind2) == (i, i) or (ind1, ind2) == (j, j):\n",
    "                    U[ind1][ind2] = math.cos(phi)\n",
    "                elif ind1 == ind2:\n",
    "                    U[ind1][ind2] = 1\n",
    "        return U\n",
    "    \n",
    "    def t(A):\n",
    "        tmp = []\n",
    "        for l in range(len(A)):\n",
    "            for m in range(l+1, (len(A))):\n",
    "                tmp.append(A[l][m])\n",
    "        return sum([el ** 2 for el in tmp]) ** 0.5\n",
    "        \n",
    "        \n",
    "    max_el_with_ind = find_max_el(A)\n",
    "    U = make_U(A, max_el_with_ind)\n",
    "    A_new = U.transpose() @ A @ U\n",
    "    num_of_iter = 1\n",
    "    \n",
    "    eigenvector = U\n",
    "    while t(A_new) > eps:\n",
    "        num_of_iter += 1\n",
    "        A = A_new\n",
    "        max_el_with_ind = find_max_el(A)\n",
    "        U = make_U(A, max_el_with_ind)\n",
    "        eigenvector = eigenvector @ U\n",
    "        A_new = U.transpose() @ A @ U\n",
    "        \n",
    "    print(\"A =\", np.around(A_new, decimals=7),\"number of iterations = {}\".format(num_of_iter), \n",
    "          \"Собственные векторы:\", eigenvector, sep = '\\n')\n",
    "    \n",
    "    def find_angle(a, b):\n",
    "        return math.acos(np.dot(a, b)/np.dot(a, a) ** 0.5 * np.dot(b, b) ** 0.5)\n",
    "    \n",
    "    eigenvector1 = np.transpose(eigenvector)[0]\n",
    "    eigenvector2 = np.transpose(eigenvector)[1]\n",
    "    eigenvector3 = np.transpose(eigenvector)[2]\n",
    "    print(\"angle between eigenvector 1 and eigenvector 2:\", find_angle(eigenvector1, eigenvector2))\n",
    "    print(\"angle between eigenvector 1 and eigenvector 3:\", find_angle(eigenvector1, eigenvector3))\n",
    "    print(\"angle between eigenvector 2 and eigenvector 3:\", find_angle(eigenvector2, eigenvector3))"
   ]
  },
  {
   "cell_type": "code",
   "execution_count": 16,
   "metadata": {},
   "outputs": [
    {
     "name": "stdout",
     "output_type": "stream",
     "text": [
      "A =\n",
      "[[-7.5105179  0.         0.       ]\n",
      " [ 0.         8.9609142  0.       ]\n",
      " [ 0.         0.        10.5496037]]\n",
      "number of iterations = 6\n",
      "Собственные векторы:\n",
      "[[ 0.8955452   0.20283871 -0.39604955]\n",
      " [-0.0807442   0.94935914  0.30364056]\n",
      " [ 0.43758332 -0.23994515  0.86657208]]\n",
      "angle between eigenvector 1 and eigenvector 2: 1.5707963267948966\n",
      "angle between eigenvector 1 and eigenvector 3: 1.5707963267948968\n",
      "angle between eigenvector 2 and eigenvector 3: 1.5707963267948966\n"
     ]
    }
   ],
   "source": [
    "A = np.array([[-4, 1, -7],\n",
    "             [1, 9, 1], \n",
    "             [-7, 1, 7]])\n",
    "\n",
    "Jakobi_rotation_method(A, 1e-6)\n"
   ]
  },
  {
   "cell_type": "code",
   "execution_count": null,
   "metadata": {},
   "outputs": [],
   "source": []
  }
 ],
 "metadata": {
  "kernelspec": {
   "display_name": "Python 3",
   "language": "python",
   "name": "python3"
  },
  "language_info": {
   "codemirror_mode": {
    "name": "ipython",
    "version": 3
   },
   "file_extension": ".py",
   "mimetype": "text/x-python",
   "name": "python",
   "nbconvert_exporter": "python",
   "pygments_lexer": "ipython3",
   "version": "3.6.8"
  }
 },
 "nbformat": 4,
 "nbformat_minor": 2
}
