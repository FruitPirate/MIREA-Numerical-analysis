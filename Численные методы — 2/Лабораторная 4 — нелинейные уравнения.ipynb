{
 "cells": [
  {
   "cell_type": "markdown",
   "metadata": {},
   "source": [
    "Решить уравнение f(x) = 0 методами половинного деления, простой итерации, Ньютона и секущих.   \n",
    "f(x) = log(x+1) - 2*(x**2) + 1"
   ]
  },
  {
   "cell_type": "code",
   "execution_count": 3,
   "metadata": {},
   "outputs": [],
   "source": [
    "import numpy as np\n",
    "import math\n",
    "\n",
    "def f(x):\n",
    "    return math.log(x+1) - 2*(x**2) + 1\n",
    "\n"
   ]
  },
  {
   "cell_type": "code",
   "execution_count": 6,
   "metadata": {
    "scrolled": false
   },
   "outputs": [
    {
     "name": "stdout",
     "output_type": "stream",
     "text": [
      "Количество итераций: 17\n",
      "x = 0.9070816040039062 f(x) = -0.000019955\n"
     ]
    }
   ],
   "source": [
    "#Метод половинного деления\n",
    "def MPD(f, a, b, eps=1e-5):\n",
    "    iter_num = 0\n",
    "    while abs(b - a) > eps:\n",
    "        iter_num += 1\n",
    "        x = (a + b) / 2.0\n",
    "        fx = f(x)\n",
    "        fa = f(a)\n",
    "        if (fx < 0 and fa < 0) or (fx > 0 and fa >0):\n",
    "            a = x\n",
    "        else:\n",
    "            b = x\n",
    "    print(\"Количество итераций:\", iter_num)\n",
    "    return x\n",
    "\n",
    "x = MPD(f, 0, 1)\n",
    "print(\"x =\", x, \"f(x) =\", '{:0.9f}'.format(f(x)))\n"
   ]
  },
  {
   "cell_type": "code",
   "execution_count": 10,
   "metadata": {},
   "outputs": [
    {
     "name": "stdout",
     "output_type": "stream",
     "text": [
      "Итерация = 0 x = 0.5 Производная в точке =  0.1988170901609551\n",
      "Итерация =  1 x = 0.8382914493504524 Производная в точке =  0.15162983879604158\n",
      "Итерация =  2 x = 0.8968936893819263 Производная в точке =  0.14553293052106128\n",
      "Итерация =  3 x = 0.9055985998054342 Производная в точке =  0.1446663541141358\n",
      "Итерация =  4 x = 0.906861672152866 Производная в точке =  0.1445414184584262\n",
      "Итерация =  5 x = 0.9070443173016558 Производная в точке =  0.14452336902514967\n",
      "Итерация =  6 x = 0.9070707154421515 Производная в точке =  0.1445207606470042\n",
      "Количество итераций: 6\n",
      "x = 0.9070745305559235 f(x) = 0.000002001\n"
     ]
    }
   ],
   "source": [
    "def phi(x):\n",
    "    return ((math.log(x+1) + 1)/2) ** 0.5\n",
    "\n",
    "def diff_phi(x):\n",
    "    return 1/((2 ** 0.5)*(2*x+2)*(math.log(x+1) + 1) ** 0.5)\n",
    "\n",
    "#Метод простой итерации\n",
    "def MPI(phi, a, b, eps=1e-5):\n",
    "    iter_num = 0\n",
    "    x = (a + b) / 2.0\n",
    "    x_new = phi(x)\n",
    "    diff = diff_phi(x)\n",
    "    print(\"Итерация =\", iter_num, \"x =\", x, \"Производная в точке = \", diff)\n",
    "    while abs(x_new - x) > eps:\n",
    "        x = x_new\n",
    "        x_new = phi(x)\n",
    "        iter_num += 1\n",
    "        diff = diff_phi(x)\n",
    "        print(\"Итерация = \", iter_num, \"x =\", x, \"Производная в точке = \", diff)\n",
    "    print(\"Количество итераций:\", iter_num)\n",
    "    return x_new\n",
    "    \n",
    "x = MPI(phi, 0, 1)\n",
    "print(\"x =\", x, \"f(x) =\", '{:0.9f}'.format(f(x)))\n"
   ]
  },
  {
   "cell_type": "code",
   "execution_count": 12,
   "metadata": {},
   "outputs": [
    {
     "name": "stdout",
     "output_type": "stream",
     "text": [
      "Количество итераций: 5\n",
      "x = 0.907075175062893 f(x) = -0.000000000\n"
     ]
    }
   ],
   "source": [
    "def diff_f(x):\n",
    "    return 1/(x+1) - 4*x\n",
    "\n",
    "#Метод Ньютона\n",
    "def Newton(f, diff_f, a, b, eps=1e-5):\n",
    "    x = (a + b)/2\n",
    "    iter_num = 1\n",
    "    x_new = x - f(x)/diff_f(x)\n",
    "    while abs(x_new - x) > eps:\n",
    "        iter_num +=1\n",
    "        x = x_new\n",
    "        x_new = x - f(x)/diff_f(x)\n",
    "    print(\"Количество итераций:\", iter_num)\n",
    "    return x_new\n",
    "\n",
    "x = Newton(f, diff_f, 0, 1)\n",
    "print(\"x =\", x, \"f(x) =\", '{:0.9f}'.format(f(x)))"
   ]
  },
  {
   "cell_type": "code",
   "execution_count": 13,
   "metadata": {},
   "outputs": [
    {
     "name": "stdout",
     "output_type": "stream",
     "text": [
      "Количество итераций: 7\n",
      "x = 0.9070751771757641 f(x) = -0.000000007\n"
     ]
    }
   ],
   "source": [
    "def SecandMethod(f, a, b, eps=1e-5):\n",
    "    iter_num = 0\n",
    "    x0 = (a + b) / 2\n",
    "    x1 = (a + b) / 3\n",
    "    fx0 = f(x0)\n",
    "    fx1 = f(x1)\n",
    "    while abs(x1 - x0) > eps:\n",
    "        iter_num += 1\n",
    "        x2 = (x0 * fx1 - x1 * fx0) / (fx1 - fx0)\n",
    "        x0,  x1  = x1,  x2\n",
    "        fx0, fx1 = fx1, f(x2)\n",
    "    print(\"Количество итераций:\", iter_num)\n",
    "    return x1\n",
    "\n",
    "x = SecandMethod(f, 0, 1)\n",
    "print(\"x =\", x, \"f(x) =\", '{:0.9f}'.format(f(x)))"
   ]
  },
  {
   "cell_type": "code",
   "execution_count": null,
   "metadata": {},
   "outputs": [],
   "source": []
  }
 ],
 "metadata": {
  "kernelspec": {
   "display_name": "Python 3",
   "language": "python",
   "name": "python3"
  },
  "language_info": {
   "codemirror_mode": {
    "name": "ipython",
    "version": 3
   },
   "file_extension": ".py",
   "mimetype": "text/x-python",
   "name": "python",
   "nbconvert_exporter": "python",
   "pygments_lexer": "ipython3",
   "version": "3.6.8"
  }
 },
 "nbformat": 4,
 "nbformat_minor": 2
}
