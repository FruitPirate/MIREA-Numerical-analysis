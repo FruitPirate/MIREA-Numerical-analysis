{
 "cells": [
  {
   "cell_type": "markdown",
   "metadata": {},
   "source": [
    "Решить СЛАУ методом прогонки."
   ]
  },
  {
   "cell_type": "code",
   "execution_count": 1,
   "metadata": {},
   "outputs": [],
   "source": [
    "import numpy as np\n",
    "\n",
    "\n",
    "def TMA(A, d):\n",
    "    n = len(A)\n",
    "    if len(d) != n:\n",
    "        raise ValueError(\"Invalid argument: incompatible sizes between\" + \"A & d.\", d.size, n)\n",
    "    a = [0]\n",
    "    c = []\n",
    "    b = []\n",
    "    for i in range(n-1):\n",
    "        a.append(A[i+1][i])\n",
    "        b.append(A[i][i])\n",
    "        c.append(A[i][i+1])\n",
    "    b.append(A[n-1][n-1])\n",
    "    c.append(0)\n",
    "    P = [-c[0]/b[0]]\n",
    "    \n",
    "    Q = [d[0]/b[0]]\n",
    "    for i in range(1, n-1):\n",
    "        P.append(-c[i]/(b[i] + a[i]*P[i-1]))\n",
    "        Q.append((d[i] - a[i]* Q[i-1])/(b[i] + a[i]*P[i-1]))\n",
    "    P.append(0)\n",
    "    Q.append((d[n-1] - a[n-1]*Q[n-2])/(b[n-1] + a[n-1]*P[n-2]))\n",
    "    \n",
    "    x = [0]*n\n",
    "    x[n-1] = Q[n-1]\n",
    "    for i in reversed(range(n-1)):\n",
    "        x[i] = P[i]*x[i+1] + Q[i]\n",
    "    print(\"a =\", a, \"b =\",  b, \"c =\",  c, \"P =\", P, \"Q =\", Q, \"X =\", x, sep = '\\n')\n",
    "    return(x)\n",
    "        "
   ]
  },
  {
   "cell_type": "code",
   "execution_count": 2,
   "metadata": {},
   "outputs": [
    {
     "name": "stdout",
     "output_type": "stream",
     "text": [
      "a =\n",
      "[0, -7, -7, 4, -6]\n",
      "b =\n",
      "[-12, -11, 21, -13, 14]\n",
      "c =\n",
      "[-7, -3, -8, 5, 0]\n",
      "P =\n",
      "[-0.5833333333333334, -0.4337349397590362, 0.3328320802005012, 0.42849778770565744, 0]\n",
      "Q =\n",
      "[8.5, 4.698795180722892, -1.3358395989974934, -3.7145066368830273, -2.9999999999999996]\n",
      "X =\n",
      "[5.0, 6.0, -2.999999999999999, -4.999999999999999, -2.9999999999999996]\n"
     ]
    }
   ],
   "source": [
    "A = np.array([[-12, -7, 0, 0, 0], [-7, -11, -3, 0, 0], [0, -7, 21, -8, 0], [0, 0, 4, -13, 5], [0, 0, 0, -6, 14]])\n",
    "d = np.array([-102, -92, -65, 38, -12])\n",
    "x = TMA(np.copy(A), np.copy(d))\n"
   ]
  },
  {
   "cell_type": "code",
   "execution_count": 4,
   "metadata": {},
   "outputs": [
    {
     "name": "stdout",
     "output_type": "stream",
     "text": [
      "-102.0\n",
      "-92.0\n",
      "-64.99999999999997\n",
      "37.999999999999986\n",
      "-12.0\n"
     ]
    }
   ],
   "source": [
    "#Проверка\n",
    "B = x*A\n",
    "for i in range(len(A)):\n",
    "    s = 0\n",
    "    for j in range(len(A[i])):\n",
    "        s += B[i][j]\n",
    "    print(s)    "
   ]
  },
  {
   "cell_type": "code",
   "execution_count": null,
   "metadata": {},
   "outputs": [],
   "source": []
  }
 ],
 "metadata": {
  "kernelspec": {
   "display_name": "Python 3",
   "language": "python",
   "name": "python3"
  },
  "language_info": {
   "codemirror_mode": {
    "name": "ipython",
    "version": 3
   },
   "file_extension": ".py",
   "mimetype": "text/x-python",
   "name": "python",
   "nbconvert_exporter": "python",
   "pygments_lexer": "ipython3",
   "version": "3.6.8"
  }
 },
 "nbformat": 4,
 "nbformat_minor": 2
}
