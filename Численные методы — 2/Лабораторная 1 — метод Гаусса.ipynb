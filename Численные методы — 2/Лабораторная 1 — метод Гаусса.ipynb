{
 "cells": [
  {
   "cell_type": "markdown",
   "metadata": {},
   "source": [
    "Решить СЛАУ методом Гаууса."
   ]
  },
  {
   "cell_type": "code",
   "execution_count": 35,
   "metadata": {},
   "outputs": [],
   "source": [
    "import numpy as np\n",
    "\n",
    "\n",
    "def Gauss(A, b):\n",
    "    n = len(A)\n",
    "    if b.size != n:\n",
    "        raise ValueError(\"Invalid argument: incompatible sizes between\" + \"A & b.\", b.size, n)\n",
    "        \n",
    "    for k in range(n-1):\n",
    "        maxindex = abs(A[k:, k]).argmax() + k\n",
    "        if A[maxindex, k] == 0:\n",
    "            raise ValueError(\"Matrix is singular.\")\n",
    "\n",
    "        if maxindex != k:\n",
    "            A[[k, maxindex]] = A[[maxindex, k]]\n",
    "            b[[k, maxindex]] = b[[maxindex, k]]\n",
    "            \n",
    "        for row in range(k+1, n):\n",
    "            multiplier = A[row][k]/A[k][k]\n",
    "            A[row, k:] = A[row, k:] - multiplier*A[k, k:]\n",
    "            b[row] = b[row] - multiplier*b[k]\n",
    "    x = np.zeros(n)\n",
    "    k = n-1\n",
    "    x[k] = b[k]/A[k,k]\n",
    "    while k >= 0:\n",
    "        x[k] = (b[k] - np.dot(A[k,k+1:],x[k+1:]))/A[k,k]\n",
    "        k = k-1\n",
    "    return x"
   ]
  },
  {
   "cell_type": "code",
   "execution_count": 36,
   "metadata": {},
   "outputs": [
    {
     "name": "stdout",
     "output_type": "stream",
     "text": [
      "X =  [ 3.18217054  1.54651163 -0.41860465 -0.99612403]\n"
     ]
    }
   ],
   "source": [
    "A = np.array([[-2.0, -9.0, -3.0, 7.0], [-7.0, 2.0, 2.0, 5.0], [-6.0, 2.0, 0.0, 0.0], [0.0, -3.0, 8.0, -3.0]])\n",
    "b = np.array([-26.0, -25.0, -16.0, -5.0])\n",
    "x = Gauss(np.copy(A), np.copy(b))\n",
    "print(\"X = \", x)"
   ]
  },
  {
   "cell_type": "code",
   "execution_count": 37,
   "metadata": {},
   "outputs": [
    {
     "name": "stdout",
     "output_type": "stream",
     "text": [
      "-26.000000000000004\n",
      "-25.0\n",
      "-16.0\n",
      "-5.0\n"
     ]
    }
   ],
   "source": [
    "#Проверка\n",
    "B = x*A\n",
    "for i in range(len(A)):\n",
    "    s = 0\n",
    "    for j in range(len(A[i])):\n",
    "        s += B[i][j]\n",
    "    print(s)    "
   ]
  },
  {
   "cell_type": "code",
   "execution_count": null,
   "metadata": {},
   "outputs": [],
   "source": []
  }
 ],
 "metadata": {
  "kernelspec": {
   "display_name": "Python 3",
   "language": "python",
   "name": "python3"
  },
  "language_info": {
   "codemirror_mode": {
    "name": "ipython",
    "version": 3
   },
   "file_extension": ".py",
   "mimetype": "text/x-python",
   "name": "python",
   "nbconvert_exporter": "python",
   "pygments_lexer": "ipython3",
   "version": "3.6.8"
  }
 },
 "nbformat": 4,
 "nbformat_minor": 2
}
