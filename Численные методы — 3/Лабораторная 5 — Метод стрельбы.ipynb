{
 "cells": [
  {
   "cell_type": "markdown",
   "metadata": {},
   "source": [
    "Решить краевую задачу для ОДУ второго порядка методом стрельбы.   \n",
    "(x^2-1)y'' + (x-3)y' - y = 0, y(0) = -2, y'(1)+ y(1) = -0.75\n"
   ]
  },
  {
   "cell_type": "code",
   "execution_count": 7,
   "metadata": {
    "scrolled": false
   },
   "outputs": [
    {
     "name": "stdout",
     "output_type": "stream",
     "text": [
      "alpha = \n",
      "-0.00039780117642762287\n",
      "y = \n",
      "[-2.         -1.99993711 -1.99967775 -1.99922768 -1.99859245 -1.99777739\n",
      " -1.99678764 -1.99562813 -1.99430361 -1.99281866 -1.9911777  -1.98938497\n",
      " -1.98744457 -1.98536046 -1.98313644 -1.98077619 -1.97828327 -1.97566111\n",
      " -1.97291301 -1.97004218 -1.96705171 -1.96394459 -1.96072372 -1.95739188\n",
      " -1.95395178 -1.95040606 -1.94675723 -1.94300776 -1.93916002 -1.93521632\n",
      " -1.93117888 -1.92704989 -1.92283142 -1.91852552 -1.91413417 -1.90965927\n",
      " -1.90510268 -1.90046621 -1.89575161 -1.89096059 -1.88609478 -1.8811558\n",
      " -1.87614521 -1.87106451 -1.8659152  -1.86069869 -1.85541638 -1.85006962\n",
      " -1.84465974 -1.83918801 -1.83365569 -1.82806399 -1.82241409 -1.81670714\n",
      " -1.81094427 -1.80512657 -1.79925511 -1.79333091 -1.787355   -1.78132835\n",
      " -1.77525194 -1.76912669 -1.76295352 -1.75673333 -1.75046697 -1.74415531\n",
      " -1.73779916 -1.73139935 -1.72495664 -1.71847183 -1.71194565 -1.70537884\n",
      " -1.69877213 -1.69212621 -1.68544177 -1.67871947 -1.67195998 -1.66516392\n",
      " -1.65833194 -1.65146463 -1.6445626  -1.63762643 -1.6306567  -1.62365396\n",
      " -1.61661877 -1.60955165 -1.60245315 -1.59532377 -1.58816401 -1.58097438\n",
      " -1.57375536 -1.56650742 -1.55923103 -1.55192665 -1.54459474 -1.53723573\n",
      " -1.52985008 -1.52243823 -1.5150006 ]\n",
      "y' =\n",
      "[-3.97801176e-04  1.94141968e-02  3.86425640e-02  5.73099668e-02\n",
      "  7.54379818e-02  9.30471586e-02  1.10157078e-01  1.26786405e-01\n",
      "  1.42952942e-01  1.58673674e-01  1.73964815e-01  1.88841848e-01\n",
      "  2.03319565e-01  2.17412104e-01  2.31132981e-01  2.44495128e-01\n",
      "  2.57510916e-01  2.70192189e-01  2.82550290e-01  2.94596084e-01\n",
      "  3.06339984e-01  3.17791971e-01  3.28961618e-01  3.39858111e-01\n",
      "  3.50490262e-01  3.60866532e-01  3.70995046e-01  3.80883609e-01\n",
      "  3.90539722e-01  3.99970593e-01  4.09183154e-01  4.18184073e-01\n",
      "  4.26979764e-01  4.35576400e-01  4.43979924e-01  4.52196059e-01\n",
      "  4.60230315e-01  4.68088005e-01  4.75774245e-01  4.83293971e-01\n",
      "  4.90651938e-01  4.97852735e-01  5.04900790e-01  5.11800374e-01\n",
      "  5.18555610e-01  5.25170479e-01  5.31648825e-01  5.37994361e-01\n",
      "  5.44210675e-01  5.50301235e-01  5.56269390e-01  5.62118381e-01\n",
      "  5.67851341e-01  5.73471299e-01  5.78981189e-01  5.84383846e-01\n",
      "  5.89682015e-01  5.94878354e-01  5.99975437e-01  6.04975754e-01\n",
      "  6.09881719e-01  6.14695670e-01  6.19419873e-01  6.24056521e-01\n",
      "  6.28607744e-01  6.33075602e-01  6.37462096e-01  6.41769164e-01\n",
      "  6.45998687e-01  6.50152488e-01  6.54232337e-01  6.58239948e-01\n",
      "  6.62176986e-01  6.66045068e-01  6.69845758e-01  6.73580579e-01\n",
      "  6.77251003e-01  6.80858463e-01  6.84404344e-01  6.87889993e-01\n",
      "  6.91316711e-01  6.94685763e-01  6.97998368e-01  7.01255709e-01\n",
      "  7.04458923e-01  7.07609109e-01  7.10707317e-01  7.13754552e-01\n",
      "  7.16751763e-01  7.19699837e-01  7.22599583e-01  7.25451707e-01\n",
      "  7.28256769e-01  7.31015101e-01  7.33726643e-01  7.36390588e-01\n",
      "  7.39004463e-01  7.41561333e-01  7.44038097e-01]\n"
     ]
    }
   ],
   "source": [
    "import numpy as np\n",
    "import matplotlib.pyplot as plt\n",
    "\n",
    "#y' = z\n",
    "g = lambda x, y, z: z\n",
    "\n",
    "#z' = (y - (x-3)*z)/(x^2 - 1)\n",
    "f = lambda x, y, z: (y - (x-3)*z)/(x**2 - 1)\n",
    "\n",
    "def Runge_Kutta(arr_x, h, init_values):\n",
    "    arr_y = np.zeros(len(arr_x))\n",
    "    arr_y[0] = init_values[0]\n",
    "    arr_z = np.zeros(len(arr_x))\n",
    "    arr_z[0] = init_values[1]\n",
    "    for i in range(1, len(arr_x)):\n",
    "        k1 = f(arr_x[i-1], arr_y[i-1], arr_z[i-1])\n",
    "        q1 = g(arr_x[i-1], arr_y[i-1], arr_z[i-1])\n",
    "        k2 = f(arr_x[i-1] + h/2, arr_y[i-1] + q1 * h / 2, arr_z[i-1] + k1 * h / 2)\n",
    "        q2 = g(arr_x[i-1] + h/2, arr_y[i-1] + q1 * h / 2, arr_z[i-1] + k1 * h / 2)\n",
    "        k3 = f(arr_x[i-1] + h/2, arr_y[i-1] + q2 * h / 2, arr_z[i-1] + k1 * h / 2)\n",
    "        q3 = g(arr_x[i-1] + h/2, arr_y[i-1] + q2 * h / 2, arr_z[i-1] + k1 * h / 2)\n",
    "        k4 = f(arr_x[i-1] + h, arr_y[i-1] + q3 * h, arr_z[i-1] + q3 * h)\n",
    "        q4 = g(arr_x[i-1] + h, arr_y[i-1] + q3 * h, arr_z[i-1] + q3 * h)\n",
    "        \n",
    "        arr_z[i] = arr_z[i-1] + h*(k1 + 2*k2 + 2*k3 + k4)/6\n",
    "        arr_y[i] = arr_y[i-1] + h*(q1 + 2*q2 + 2*q3 + q4)/6\n",
    "\n",
    "    return (arr_y, arr_z)\n",
    "\n",
    "h = 0.01\n",
    "x_arr = np.arange(0, 1-h, h)\n",
    "\n",
    "borders = (-2, -1.515)\n",
    "#tg(a) = (y1 - y0)/(b-a)\n",
    "init_values = [-2, 0.5]\n",
    "alpha = np.arctan(init_values[1])\n",
    "\n",
    "eps = 0.0001\n",
    "\n",
    "results = []\n",
    "\n",
    "res = Runge_Kutta(x_arr, h, init_values)\n",
    "diff = res[0][-1] - borders[1]\n",
    "if diff > 0:\n",
    "    while True:\n",
    "        old_alpha = alpha\n",
    "        alpha -= 0.01\n",
    "        init_values[1] = np.tan(alpha)\n",
    "        res = Runge_Kutta(x_arr, h, init_values)\n",
    "        diff = res[0][-1] - borders[1]\n",
    "        if diff < 0:\n",
    "            new_alpha = alpha\n",
    "            break\n",
    "        \n",
    "elif diff < 0:\n",
    "    while True:\n",
    "        old_alpha = alpha\n",
    "        alpha += 0.01\n",
    "        init_values[1] = np.tan(alpha)\n",
    "        res = Runge_Kutta(x_arr, h, init_values)\n",
    "        diff = res[0][-1] - borders[1]\n",
    "        if diff > 0:\n",
    "            new_alpha = alpha\n",
    "            break\n",
    "\n",
    "eps = 0.000001\n",
    "if new_alpha > old_alpha:\n",
    "    left_alpha = old_alpha\n",
    "    right_alpha = new_alpha\n",
    "else:\n",
    "    left_alpha = new_alpha\n",
    "    right_alpha = old_alpha\n",
    "    \n",
    "while True:\n",
    "    init_values[1] = np.tan(left_alpha)\n",
    "    res_1 = Runge_Kutta(x_arr, h, init_values)\n",
    "   \n",
    "    mid_alpha = (left_alpha + right_alpha) / 2\n",
    "    init_values[1] = np.tan(mid_alpha)\n",
    "    res_2 = Runge_Kutta(x_arr, h, init_values)\n",
    "    \n",
    "    diff_1 = res_1[0][-1] - borders[1]\n",
    "    diff_2 = res_2[0][-1] - borders[1]\n",
    "    \n",
    "    if np.abs(diff_1) < eps:\n",
    "        print(\"alpha = \", np.tan(left_alpha), \"y = \", res_1[0], \"y' =\", res_1[1], sep='\\n')\n",
    "        break\n",
    "    \n",
    "    if diff_1 * diff_2 > 0:\n",
    "        left_alpha = mid_alpha\n",
    "    else:\n",
    "        right_alpha = mid_alpha\n",
    "\n",
    "    \n",
    "\n",
    "\n",
    "\n",
    "\n",
    "\n",
    "    \n"
   ]
  },
  {
   "cell_type": "code",
   "execution_count": 9,
   "metadata": {},
   "outputs": [
    {
     "data": {
      "text/plain": [
       "Text(0, 0.5, 'y')"
      ]
     },
     "execution_count": 9,
     "metadata": {},
     "output_type": "execute_result"
    },
    {
     "data": {
      "image/png": "[encoded data removed]",
      "text/plain": [
       "<Figure size 640x480 with 1 Axes>"
      ]
     },
     "metadata": {},
     "output_type": "display_data"
    }
   ],
   "source": [
    "y = lambda x: x-3+1/(x+1)\n",
    "y_true = [y(x) for x in x_arr]\n",
    "y_arr = res[0]\n",
    "plt.figure(num=None, figsize=(8, 6), dpi=80, facecolor='w', edgecolor='k')\n",
    "plt.plot(x_arr, y_arr, 'b', x_arr, y_true, 'r')\n",
    "plt.xlabel('x')\n",
    "plt.ylabel('y')"
   ]
  },
  {
   "cell_type": "code",
   "execution_count": null,
   "metadata": {},
   "outputs": [],
   "source": []
  }
 ],
 "metadata": {
  "kernelspec": {
   "display_name": "Python 3",
   "language": "python",
   "name": "python3"
  },
  "language_info": {
   "codemirror_mode": {
    "name": "ipython",
    "version": 3
   },
   "file_extension": ".py",
   "mimetype": "text/x-python",
   "name": "python",
   "nbconvert_exporter": "python",
   "pygments_lexer": "ipython3",
   "version": "3.6.8"
  }
 },
 "nbformat": 4,
 "nbformat_minor": 2
}
